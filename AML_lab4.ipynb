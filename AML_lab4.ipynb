{
 "cells": [
  {
   "cell_type": "code",
   "execution_count": 15,
   "id": "102ce5ef-bd28-4196-af51-99a009c3ffd8",
   "metadata": {},
   "outputs": [
    {
     "name": "stdout",
     "output_type": "stream",
     "text": [
      "Index(['crim', 'zn', 'indus', 'chas', 'nox', 'rm', 'age', 'dis', 'rad', 'tax',\n",
      "       'ptratio', 'b', 'lstat', 'medv'],\n",
      "      dtype='object')\n"
     ]
    }
   ],
   "source": [
    "import numpy as np\n",
    "import pandas as pd\n",
    "from sklearn.model_selection import train_test_split\n",
    "from sklearn.decomposition import PCA, FastICA\n",
    "from sklearn.discriminant_analysis import LinearDiscriminantAnalysis as LDA\n",
    "from sklearn.neighbors import KNeighborsClassifier\n",
    "from sklearn.svm import SVC\n",
    "from sklearn.metrics import accuracy_score\n",
    "from sklearn.linear_model import LinearRegression\n",
    "from sklearn.metrics import mean_squared_error, r2_score\n",
    "\n",
    "# Load your dataset \n",
    "data = pd.read_csv('BostonHousing.csv')\n",
    "print(data.columns)\n"
   ]
  },
  {
   "cell_type": "code",
   "execution_count": 16,
   "id": "7e28a94a-50bc-4491-a631-b0d5a7395189",
   "metadata": {},
   "outputs": [],
   "source": [
    "# Define features and target\n",
    "features = ['crim', 'zn', 'indus', 'nox', 'rm', 'age', 'dis', 'rad', 'tax', 'ptratio', 'b', 'lstat']\n",
    "target = 'medv'\n",
    "\n",
    "# Separate features (X) and target (y)\n",
    "X = data[features]\n",
    "y = data[target]\n",
    "\n",
    "# Replace NaNs with column means, assigning back to X\n",
    "X = X.fillna(X.mean())\n"
   ]
  },
  {
   "cell_type": "code",
   "execution_count": 17,
   "id": "ec7f1c69-0600-48dd-a0f9-2660a2c793da",
   "metadata": {},
   "outputs": [],
   "source": [
    "# Split data into training and testing sets (80% train, 20% test)\n",
    "X_train, X_test, y_train, y_test = train_test_split(X, y, test_size=0.2, random_state=42)\n"
   ]
  },
  {
   "cell_type": "code",
   "execution_count": 18,
   "id": "ca86322a-c4c5-4895-acb9-ae70a6000491",
   "metadata": {},
   "outputs": [],
   "source": [
    "# Initialize PCA to reduce to 8 principal components\n",
    "pca = PCA(n_components=8)\n",
    "X_train_pca = pca.fit_transform(X_train)\n",
    "X_test_pca = pca.transform(X_test)\n"
   ]
  },
  {
   "cell_type": "code",
   "execution_count": 19,
   "id": "224fbf27-d45e-43dd-a7a3-ce10961003e0",
   "metadata": {},
   "outputs": [
    {
     "name": "stderr",
     "output_type": "stream",
     "text": [
      "C:\\Python310\\lib\\site-packages\\sklearn\\decomposition\\_fastica.py:128: ConvergenceWarning: FastICA did not converge. Consider increasing tolerance or the maximum number of iterations.\n",
      "  warnings.warn(\n"
     ]
    }
   ],
   "source": [
    "# Initialize ICA to reduce to 8 independent components\n",
    "ica = FastICA(n_components=8, random_state=42)\n",
    "X_train_ica = ica.fit_transform(X_train)\n",
    "X_test_ica = ica.transform(X_test)\n"
   ]
  },
  {
   "cell_type": "code",
   "execution_count": 20,
   "id": "477e5bec-44ce-472f-9140-7b2eaf3b5c66",
   "metadata": {},
   "outputs": [
    {
     "name": "stdout",
     "output_type": "stream",
     "text": [
      "PCA Results:\n",
      "Mean Squared Error: 29.57\n",
      "R-squared: 0.60\n",
      "\n",
      "ICA Results:\n",
      "Mean Squared Error: 29.57\n",
      "R-squared: 0.60\n"
     ]
    }
   ],
   "source": [
    "# Initialize Linear Regression model\n",
    "model = LinearRegression()\n",
    "\n",
    "# Train and evaluate on PCA-transformed data\n",
    "model.fit(X_train_pca, y_train)\n",
    "y_pred_pca = model.predict(X_test_pca)\n",
    "mse_pca = mean_squared_error(y_test, y_pred_pca)\n",
    "r2_pca = r2_score(y_test, y_pred_pca)\n",
    "\n",
    "# Train and evaluate on ICA-transformed data\n",
    "model.fit(X_train_ica, y_train)\n",
    "y_pred_ica = model.predict(X_test_ica)\n",
    "mse_ica = mean_squared_error(y_test, y_pred_ica)\n",
    "r2_ica = r2_score(y_test, y_pred_ica)\n",
    "\n",
    "print(\"PCA Results:\")\n",
    "print(f\"Mean Squared Error: {mse_pca:.2f}\")\n",
    "print(f\"R-squared: {r2_pca:.2f}\")\n",
    "\n",
    "print(\"\\nICA Results:\")\n",
    "print(f\"Mean Squared Error: {mse_ica:.2f}\")\n",
    "print(f\"R-squared: {r2_ica:.2f}\")\n"
   ]
  },
  {
   "cell_type": "code",
   "execution_count": null,
   "id": "f89df3ef-3333-47f6-a78a-b9c9b4a1b138",
   "metadata": {},
   "outputs": [],
   "source": []
  }
 ],
 "metadata": {
  "kernelspec": {
   "display_name": "Python 3 (ipykernel)",
   "language": "python",
   "name": "python3"
  },
  "language_info": {
   "codemirror_mode": {
    "name": "ipython",
    "version": 3
   },
   "file_extension": ".py",
   "mimetype": "text/x-python",
   "name": "python",
   "nbconvert_exporter": "python",
   "pygments_lexer": "ipython3",
   "version": "3.12.7"
  }
 },
 "nbformat": 4,
 "nbformat_minor": 5
}
